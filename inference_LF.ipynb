{
 "cells": [
  {
   "cell_type": "markdown",
   "metadata": {},
   "source": [
    "# Generating images with MX-Font model from a reference style\n",
    "In this example we'll generate images with trained LF-Font model."
   ]
  },
  {
   "cell_type": "markdown",
   "metadata": {},
   "source": [
    "### 1. Loading packages\n",
    "* First, load the packages used in this code.\n",
    "* All of the packages are avilable in `pip`."
   ]
  },
  {
   "cell_type": "code",
   "execution_count": 5,
   "metadata": {},
   "outputs": [
    {
     "ename": "ModuleNotFoundError",
     "evalue": "No module named 'sconf'",
     "output_type": "error",
     "traceback": [
      "\u001b[1;31m---------------------------------------------------------------------------\u001b[0m",
      "\u001b[1;31mModuleNotFoundError\u001b[0m                       Traceback (most recent call last)",
      "\u001b[1;32mc:\\fewshot-font-generation\\inference_LF.ipynb 셀 3\u001b[0m in \u001b[0;36m<cell line: 7>\u001b[1;34m()\u001b[0m\n\u001b[0;32m      <a href='vscode-notebook-cell:/c%3A/fewshot-font-generation/inference_LF.ipynb#W2sZmlsZQ%3D%3D?line=3'>4</a>\u001b[0m \u001b[39mfrom\u001b[39;00m \u001b[39mitertools\u001b[39;00m \u001b[39mimport\u001b[39;00m chain\n\u001b[0;32m      <a href='vscode-notebook-cell:/c%3A/fewshot-font-generation/inference_LF.ipynb#W2sZmlsZQ%3D%3D?line=5'>6</a>\u001b[0m \u001b[39mimport\u001b[39;00m \u001b[39mtorch\u001b[39;00m\n\u001b[1;32m----> <a href='vscode-notebook-cell:/c%3A/fewshot-font-generation/inference_LF.ipynb#W2sZmlsZQ%3D%3D?line=6'>7</a>\u001b[0m \u001b[39mfrom\u001b[39;00m \u001b[39msconf\u001b[39;00m \u001b[39mimport\u001b[39;00m Config\n\u001b[0;32m      <a href='vscode-notebook-cell:/c%3A/fewshot-font-generation/inference_LF.ipynb#W2sZmlsZQ%3D%3D?line=7'>8</a>\u001b[0m \u001b[39mfrom\u001b[39;00m \u001b[39mtorchvision\u001b[39;00m \u001b[39mimport\u001b[39;00m transforms\n\u001b[0;32m     <a href='vscode-notebook-cell:/c%3A/fewshot-font-generation/inference_LF.ipynb#W2sZmlsZQ%3D%3D?line=9'>10</a>\u001b[0m transform \u001b[39m=\u001b[39m transforms\u001b[39m.\u001b[39mCompose([\n\u001b[0;32m     <a href='vscode-notebook-cell:/c%3A/fewshot-font-generation/inference_LF.ipynb#W2sZmlsZQ%3D%3D?line=10'>11</a>\u001b[0m     transforms\u001b[39m.\u001b[39mResize((\u001b[39m128\u001b[39m, \u001b[39m128\u001b[39m)),\n\u001b[0;32m     <a href='vscode-notebook-cell:/c%3A/fewshot-font-generation/inference_LF.ipynb#W2sZmlsZQ%3D%3D?line=11'>12</a>\u001b[0m     transforms\u001b[39m.\u001b[39mToTensor(),\n\u001b[0;32m     <a href='vscode-notebook-cell:/c%3A/fewshot-font-generation/inference_LF.ipynb#W2sZmlsZQ%3D%3D?line=12'>13</a>\u001b[0m     transforms\u001b[39m.\u001b[39mNormalize([\u001b[39m0.5\u001b[39m], [\u001b[39m0.5\u001b[39m])\n\u001b[0;32m     <a href='vscode-notebook-cell:/c%3A/fewshot-font-generation/inference_LF.ipynb#W2sZmlsZQ%3D%3D?line=13'>14</a>\u001b[0m ])\n",
      "\u001b[1;31mModuleNotFoundError\u001b[0m: No module named 'sconf'"
     ]
    }
   ],
   "source": [
    "import json\n",
    "from pathlib import Path\n",
    "from PIL import Image\n",
    "from itertools import chain\n",
    "\n",
    "import torch\n",
    "from sconf import Config\n",
    "from torchvision import transforms\n",
    "\n",
    "transform = transforms.Compose([\n",
    "    transforms.Resize((128, 128)),\n",
    "    transforms.ToTensor(),\n",
    "    transforms.Normalize([0.5], [0.5])\n",
    "])"
   ]
  },
  {
   "cell_type": "markdown",
   "metadata": {},
   "source": [
    "* These modules are defined in this repository."
   ]
  },
  {
   "cell_type": "code",
   "execution_count": null,
   "metadata": {},
   "outputs": [],
   "source": [
    "from base.dataset import read_font, render\n",
    "from base.utils import save_tensor_to_image, load_reference\n",
    "from LF.models import Generator\n",
    "from inference import infer_LF"
   ]
  },
  {
   "cell_type": "markdown",
   "metadata": {},
   "source": [
    "### 2. Build model\n",
    "* Build and load the trained model.\n",
    "* `weight_path` : \n",
    "    * The location of the trained model weight.\n",
    "* `emb_dim` :\n",
    "    * The dimension of embedding blocks in the trained model weight.\n",
    "* `decomposition` :\n",
    "    * The location of the pre-defined decomposition rule file.\n",
    "* `primals` :\n",
    "    * The location of the primals list file.\n",
    "    * The order of primals list should be identical to that used for the training."
   ]
  },
  {
   "cell_type": "code",
   "execution_count": null,
   "metadata": {},
   "outputs": [
    {
     "ename": "NameError",
     "evalue": "name 'json' is not defined",
     "output_type": "error",
     "traceback": [
      "\u001b[1;31m---------------------------------------------------------------------------\u001b[0m",
      "\u001b[1;31mNameError\u001b[0m                                 Traceback (most recent call last)",
      "\u001b[1;32mc:\\fewshot-font-generation\\inference_LF.ipynb 셀 7\u001b[0m in \u001b[0;36m<cell line: 8>\u001b[1;34m()\u001b[0m\n\u001b[0;32m      <a href='vscode-notebook-cell:/c%3A/fewshot-font-generation/inference_LF.ipynb#W6sZmlsZQ%3D%3D?line=4'>5</a>\u001b[0m primals \u001b[39m=\u001b[39m \u001b[39m\"\u001b[39m\u001b[39mdata/kor/primals.json\u001b[39m\u001b[39m\"\u001b[39m\n\u001b[0;32m      <a href='vscode-notebook-cell:/c%3A/fewshot-font-generation/inference_LF.ipynb#W6sZmlsZQ%3D%3D?line=5'>6</a>\u001b[0m \u001b[39m###############################################################\u001b[39;00m\n\u001b[1;32m----> <a href='vscode-notebook-cell:/c%3A/fewshot-font-generation/inference_LF.ipynb#W6sZmlsZQ%3D%3D?line=7'>8</a>\u001b[0m decomposition \u001b[39m=\u001b[39m json\u001b[39m.\u001b[39mload(\u001b[39mopen\u001b[39m(decomposition))\n\u001b[0;32m      <a href='vscode-notebook-cell:/c%3A/fewshot-font-generation/inference_LF.ipynb#W6sZmlsZQ%3D%3D?line=8'>9</a>\u001b[0m primals \u001b[39m=\u001b[39m json\u001b[39m.\u001b[39mload(\u001b[39mopen\u001b[39m(primals))\n\u001b[0;32m     <a href='vscode-notebook-cell:/c%3A/fewshot-font-generation/inference_LF.ipynb#W6sZmlsZQ%3D%3D?line=9'>10</a>\u001b[0m n_comps \u001b[39m=\u001b[39m \u001b[39mlen\u001b[39m(primals)\n",
      "\u001b[1;31mNameError\u001b[0m: name 'json' is not defined"
     ]
    }
   ],
   "source": [
    "###############################################################\n",
    "weight_path = \"weights/kor/lffont.pth\"  # path to weight to infer\n",
    "emb_dim = 4\n",
    "decomposition = \"data/kor/decomposition.json\"\n",
    "primals = \"data/kor/primals.json\"\n",
    "###############################################################\n",
    "\n",
    "decomposition = json.load(open(decomposition))\n",
    "primals = json.load(open(primals))\n",
    "n_comps = len(primals)\n",
    "\n",
    "def decompose_to_ids(char):\n",
    "    dec = decomposition[char]\n",
    "    comp_ids = [primals.index(d) for d in dec]\n",
    "    return comp_ids\n",
    "\n",
    "cfg = Config(\"cfgs/LF/p2/default.yaml\")\n",
    "\n",
    "gen = Generator(n_comps=n_comps, emb_dim=emb_dim).cuda().eval()\n",
    "# weight = torch.load(weight_path)\n",
    "# if \"generator_ema\" in weight:\n",
    "#     weight = weight[\"generator_ema\"]\n",
    "# gen.load_state_dict(weight)"
   ]
  },
  {
   "cell_type": "markdown",
   "metadata": {},
   "source": [
    "### 3. Load reference images.\n",
    "* `ref_path`: \n",
    "    * The path of reference font or images.\n",
    "    * If you are using a ttf file, set this to the location of the ttf file.\n",
    "    * If you want to use rendered images, set this to the path to the directory which contains the reference images.\n",
    "* `ref_chars`:\n",
    "    * The characters of reference images.\n",
    "    * If this is `None`, all the available images will be loaded.\n",
    "* `extension`:\n",
    "    * If you are using ttf files, set this to \"ttf\".\n",
    "    * If you are using image files, set this to their extension(png, jpg, etc..)."
   ]
  },
  {
   "cell_type": "code",
   "execution_count": null,
   "metadata": {},
   "outputs": [],
   "source": [
    "########################################################\n",
    "ref_path = \"data_example/kor/png\"\n",
    "extension = \"png\"\n",
    "ref_chars = \"값넋닻볘츄퀭핥훟\"\n",
    "## Comment upper lines and uncomment lower lines to test with ttf files.\n",
    "# extension = \"ttf\"\n",
    "# ref_chars = \"값같곬곶깎넋늪닫닭닻됩뗌략몃밟볘뺐뽈솩쐐앉않얘얾엌옳읊죡쮜춰츄퀭틔핀핥훟\"\n",
    "########################################################\n",
    "\n",
    "ref_dict, load_img = load_reference(ref_path, extension, ref_chars)"
   ]
  },
  {
   "cell_type": "markdown",
   "metadata": {},
   "source": [
    "### 4. Generate the images.\n",
    "* `gen_chars`: The characters to generate.\n",
    "* `save_dir`: Path to save the generated images.\n",
    "* `source_path`: Path to the source.\n",
    "* `source_ext`: Extension of the source file. If you are using image files, set this to the image's extension.\n",
    "* `batch_size`: The number of images inferred at once."
   ]
  },
  {
   "cell_type": "code",
   "execution_count": null,
   "metadata": {},
   "outputs": [
    {
     "data": {
      "text/plain": [
       "{}"
      ]
     },
     "execution_count": 5,
     "metadata": {},
     "output_type": "execute_result"
    }
   ],
   "source": [
    "########################################################\n",
    "gen_chars = \"좋은하루되세요\"  # Characters to generate\n",
    "save_dir = \"./result/lf\"  # Directory where you want to save generated images\n",
    "source_path = \"data/kor/source.ttf\"\n",
    "source_ext = \"ttf\"\n",
    "batch_size = 16\n",
    "########################################################\n",
    "\n",
    "infer_LF(gen, save_dir, source_path, source_ext, gen_chars, ref_dict, load_img,\n",
    "         decomposition, primals, batch_size)"
   ]
  },
  {
   "cell_type": "code",
   "execution_count": null,
   "metadata": {},
   "outputs": [],
   "source": []
  }
 ],
 "metadata": {
  "kernelspec": {
   "display_name": "Python 3.9.12 ('base')",
   "language": "python",
   "name": "python3"
  },
  "language_info": {
   "codemirror_mode": {
    "name": "ipython",
    "version": 3
   },
   "file_extension": ".py",
   "mimetype": "text/x-python",
   "name": "python",
   "nbconvert_exporter": "python",
   "pygments_lexer": "ipython3",
   "version": "3.9.12"
  },
  "vscode": {
   "interpreter": {
    "hash": "e4cce46d6be9934fbd27f9ca0432556941ea5bdf741d4f4d64c6cd7f8dfa8fba"
   }
  }
 },
 "nbformat": 4,
 "nbformat_minor": 4
}
